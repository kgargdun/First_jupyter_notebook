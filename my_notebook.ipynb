{
    "cells": [
        {
            "cell_type": "markdown",
            "metadata": {},
            "source": "<h1>My Jupyter Notebook on IBM Data Science Experience</h1>"
        },
        {
            "cell_type": "markdown",
            "metadata": {},
            "source": "**Kausutubh Garg**  \nInformation Research Sceintist\n"
        },
        {
            "cell_type": "markdown",
            "metadata": {},
            "source": "<em>I got interested in data sceince when I started to help my father mange data whose job is to monitor progress at a hydro power plant construction site. I feel passionate about visualizing data and observing the trends.</em>\n\n"
        },
        {
            "cell_type": "markdown",
            "metadata": {},
            "source": "<h3>Print all odd natural numbers less than 10</h3>"
        },
        {
            "cell_type": "code",
            "execution_count": 13,
            "metadata": {},
            "outputs": [
                {
                    "name": "stdout",
                    "output_type": "stream",
                    "text": "1\n3\n5\n7\n9\n"
                }
            ],
            "source": "for i in range(10):\n    if(i%2!=0):\n        print(i)\n     \n"
        },
        {
            "cell_type": "markdown",
            "metadata": {},
            "source": "<hr style=\"border-top:1.5px solid red;margin:1em 0;\">\n<h3>My hobbies</h3>\n<ul>\n    <li>reading</li>\n    <li>badminton</li>\n    <li>poetry</li>\n</ul>\n\n<hr style=\"border-top:1.5px solid red;margin:1em 0;\">\n<h3>Fruits I Love</h3>\n<ol>\n    <li>peaches</li>\n    <li>grapes</li>\n    <li>mangoes</li>\n</ol>\n\n<hr style=\"border-top:1.5px solid red; margin:1em 0;\">\n<h3>Fruits I Dont'Like</h3>\n<ol>\n    <li><strike>bananas</strike></li>\n    <li><strike>watermelon</strike></li>\n</ol>\n\n<hr style=\"border-top:1.5px solid red; margin:1em 0;\">\n<h3>Try these!! <span style=\"font-family:fantasy\">My favourite Indian cuisine</span></h3>\n<img style=\"width:200px;height:150px;display:inline\" src=\"https://blog.imperialindiatourpackages.com/wp-content/uploads/2018/03/mainfoodindia-1.jpg\"></img>\n<img style=\"width:200px;height:150px;display:inline;margin-left:50px\" src=\"https://www.chezshuchi.com/images/south-indian-platter1.JPG\"></img>\n\n<hr style=\"border-top:1.5px solid red;margin:1em 0;\">\n<h3>Contact Me</h3>\n<p>Follow me on Github! <a href=\"https://github.com/kgargdun\">Here</a></p>\n<p>Follow me on LinkedIn! <a href=\"https://www.linkedin.com/in/kaustubh-garg-a98032159/\">Here</a></p>\n\n\n \n"
        }
    ],
    "metadata": {
        "kernelspec": {
            "display_name": "Python 3.6 with Spark",
            "language": "python3",
            "name": "python36"
        },
        "language_info": {
            "codemirror_mode": {
                "name": "ipython",
                "version": 3
            },
            "file_extension": ".py",
            "mimetype": "text/x-python",
            "name": "python",
            "nbconvert_exporter": "python",
            "pygments_lexer": "ipython3",
            "version": "3.6.8"
        }
    },
    "nbformat": 4,
    "nbformat_minor": 1
}